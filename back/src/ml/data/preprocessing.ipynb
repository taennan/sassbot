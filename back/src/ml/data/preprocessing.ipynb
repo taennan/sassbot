{
 "cells": [
  {
   "cell_type": "code",
   "execution_count": 1,
   "id": "e31fc614",
   "metadata": {},
   "outputs": [],
   "source": [
    "import sys\n",
    "from pathlib import Path\n",
    "sys.path.append(str(Path.cwd().parent))\n",
    "\n",
    "import numpy as np\n",
    "import pandas as pd\n",
    "\n",
    "from models.layers import ProcessText\n",
    "from utils import DATA_COLS, RAW_DATA_DIR, DATA_DIR"
   ]
  },
  {
   "cell_type": "code",
   "execution_count": 2,
   "id": "ee91cbb1",
   "metadata": {},
   "outputs": [],
   "source": [
    "# Amazon, IMDB, Yelp Datsets\n",
    "MINI_OUT          = DATA_DIR / \"mini-data.csv\"\n",
    "MINI_STOPLESS_OUT = DATA_DIR / \"mini-stopless-data.csv\"\n",
    "# Twitter Dataset\n",
    "MAIN_OUT          = DATA_DIR / \"main-data.csv\"\n",
    "MAIN_STOPLESS_OUT = DATA_DIR / \"main-stopless-data.csv\"\n",
    "\n",
    "MAKE_MINI = True\n",
    "MAKE_MINI_STOPLESS = True\n",
    "\n",
    "MAKE_MAIN = True\n",
    "MAKE_MAIN_STOPLESS = True"
   ]
  },
  {
   "cell_type": "code",
   "execution_count": 3,
   "id": "6d814151",
   "metadata": {},
   "outputs": [],
   "source": [
    "np.random.seed(0)"
   ]
  },
  {
   "cell_type": "code",
   "execution_count": 4,
   "id": "dd608609",
   "metadata": {},
   "outputs": [],
   "source": [
    "def save_df(df, path):\n",
    "    df.to_csv(path, header=False, index=False)\n",
    "    \n",
    "def apply_df_text(df, func, *args, **kwargs):\n",
    "    df[\"text\"] = df[\"text\"].apply(func, args=args, **kwargs)"
   ]
  },
  {
   "cell_type": "code",
   "execution_count": 5,
   "id": "b59ba6f5",
   "metadata": {},
   "outputs": [],
   "source": [
    "def make_mini_df():\n",
    "    \"\"\" \"\"\"\n",
    "    df = pd.DataFrame()\n",
    "    for name in [\"amazon\", \"imdb\", \"yelp\"]:\n",
    "        path = RAW_DATA_DIR / f\"{name}_labelled.txt\"\n",
    "        csv_df = pd.read_csv(path, sep=\"\\t\", names=[\"text\", \"sentiment\"])\n",
    "        df = pd.concat([df, csv_df])\n",
    "    \n",
    "    df = df.drop_duplicates(subset=\"text\")\n",
    "    \n",
    "    return df\n",
    "\n",
    "def make_twitter_df():\n",
    "    \"\"\" \"\"\"\n",
    "    encoding = \"ISO-8859-1\"\n",
    "    cols = [\"sentiment\", \"id\", \"date\", \"flag\", \"user\", \"text\"]\n",
    "    cols_to_drop = [\"id\", \"date\", \"flag\", \"user\"]\n",
    "\n",
    "    # Removes unnecessary columns from csv file and re-orders columns to match the previous DataFrame\n",
    "    df = pd.read_csv(RAW_DATA_DIR / \"twitter-tweets.csv\", encoding=encoding,  names=cols)\n",
    "    df = df.drop(columns=cols_to_drop)\n",
    "    df = df.reindex(columns=DATA_COLS)\n",
    "    # Sets values of positive rows to 1 since they're listed as 4 for some reason\n",
    "    df[\"sentiment\"] = df[\"sentiment\"].replace(4,1)\n",
    "    \n",
    "    df = df.drop_duplicates(subset=\"text\")\n",
    "    \n",
    "    return df"
   ]
  },
  {
   "cell_type": "code",
   "execution_count": 6,
   "id": "2c327c9e",
   "metadata": {},
   "outputs": [],
   "source": [
    "def process_df(df, save_path=None, **kwargs):\n",
    "    \"\"\" \"\"\"\n",
    "    df.text = ProcessText(**kwargs)(df.text.values).numpy()\n",
    "    df.text = df.text.apply(lambda i: i.decode())\n",
    "    \n",
    "    if save_path is not None:\n",
    "        df.to_csv(save_path, header=False, index=False)\n",
    "        \n",
    "    return df"
   ]
  },
  {
   "cell_type": "code",
   "execution_count": 7,
   "id": "54125685",
   "metadata": {},
   "outputs": [
    {
     "name": "stdout",
     "output_type": "stream",
     "text": [
      "\n",
      "/Users/Taennan/Projects/Web/Apps/sass-bot/back/src/ml/data/processed/mini-data.csv saved\n",
      "<class 'pandas.core.frame.DataFrame'>\n",
      "Int64Index: 2731 entries, 0 to 999\n",
      "Data columns (total 2 columns):\n",
      " #   Column     Non-Null Count  Dtype \n",
      "---  ------     --------------  ----- \n",
      " 0   text       2731 non-null   object\n",
      " 1   sentiment  2731 non-null   int64 \n",
      "dtypes: int64(1), object(1)\n",
      "memory usage: 64.0+ KB\n",
      "None\n",
      "\n",
      "/Users/Taennan/Projects/Web/Apps/sass-bot/back/src/ml/data/processed/mini-stopless-data.csv saved\n",
      "<class 'pandas.core.frame.DataFrame'>\n",
      "Int64Index: 2731 entries, 0 to 999\n",
      "Data columns (total 2 columns):\n",
      " #   Column     Non-Null Count  Dtype \n",
      "---  ------     --------------  ----- \n",
      " 0   text       2731 non-null   object\n",
      " 1   sentiment  2731 non-null   int64 \n",
      "dtypes: int64(1), object(1)\n",
      "memory usage: 64.0+ KB\n",
      "None\n"
     ]
    }
   ],
   "source": [
    "if MAKE_MINI or MAKE_MINI_STOPLESS:\n",
    "    df = make_mini_df()\n",
    "    \n",
    "    if MAKE_MINI:\n",
    "        df = process_df(df, MINI_OUT, stopwords=False)\n",
    "        print(f\"\\n{MINI_OUT} saved\")\n",
    "        print(df.info())\n",
    "        \n",
    "    if MAKE_MINI_STOPLESS:\n",
    "        processor_opts = { \"stopwords\": False, \"ignore\": True } if MAKE_MINI else {}\n",
    "        df = process_df(df, MINI_STOPLESS_OUT, **processor_opts)\n",
    "        print(f\"\\n{MINI_STOPLESS_OUT} saved\")\n",
    "        print(df.info())"
   ]
  },
  {
   "cell_type": "code",
   "execution_count": 8,
   "id": "e1b81112",
   "metadata": {},
   "outputs": [
    {
     "name": "stdout",
     "output_type": "stream",
     "text": [
      "\n",
      "/Users/Taennan/Projects/Web/Apps/sass-bot/back/src/ml/data/processed/main-data.csv saved\n",
      "<class 'pandas.core.frame.DataFrame'>\n",
      "Int64Index: 1581466 entries, 0 to 1599999\n",
      "Data columns (total 2 columns):\n",
      " #   Column     Non-Null Count    Dtype \n",
      "---  ------     --------------    ----- \n",
      " 0   text       1581466 non-null  object\n",
      " 1   sentiment  1581466 non-null  int64 \n",
      "dtypes: int64(1), object(1)\n",
      "memory usage: 36.2+ MB\n",
      "None\n",
      "\n",
      "/Users/Taennan/Projects/Web/Apps/sass-bot/back/src/ml/data/processed/main-stopless-data.csv saved\n",
      "<class 'pandas.core.frame.DataFrame'>\n",
      "Int64Index: 1581466 entries, 0 to 1599999\n",
      "Data columns (total 2 columns):\n",
      " #   Column     Non-Null Count    Dtype \n",
      "---  ------     --------------    ----- \n",
      " 0   text       1581466 non-null  object\n",
      " 1   sentiment  1581466 non-null  int64 \n",
      "dtypes: int64(1), object(1)\n",
      "memory usage: 36.2+ MB\n",
      "None\n"
     ]
    }
   ],
   "source": [
    "if MAKE_MAIN or MAKE_MAIN_STOPLESS:\n",
    "    df = make_twitter_df()\n",
    "    if MAKE_MAIN:\n",
    "        df = process_df(df, MAIN_OUT, stopwords=False)\n",
    "        print(f\"\\n{MAIN_OUT} saved\")\n",
    "        print(df.info())\n",
    "    if MAKE_MAIN_STOPLESS:\n",
    "        processor_opts = { \"stopwords\": False, \"ignore\": True } if MAKE_MAIN else {}\n",
    "        df = process_df(df, MAIN_STOPLESS_OUT, **processor_opts)\n",
    "        print(f\"\\n{MAIN_STOPLESS_OUT} saved\")\n",
    "        print(df.info())"
   ]
  }
 ],
 "metadata": {
  "kernelspec": {
   "display_name": "Python 3 (ipykernel)",
   "language": "python",
   "name": "python3"
  },
  "language_info": {
   "codemirror_mode": {
    "name": "ipython",
    "version": 3
   },
   "file_extension": ".py",
   "mimetype": "text/x-python",
   "name": "python",
   "nbconvert_exporter": "python",
   "pygments_lexer": "ipython3",
   "version": "3.9.7"
  }
 },
 "nbformat": 4,
 "nbformat_minor": 5
}
